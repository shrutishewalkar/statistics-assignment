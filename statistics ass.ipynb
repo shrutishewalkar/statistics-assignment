{
 "cells": [
  {
   "cell_type": "markdown",
   "id": "f14f2f98-3b01-4c7b-a5c4-5412cc74a97c",
   "metadata": {},
   "source": [
    "Que1: what is the probability density function?"
   ]
  },
  {
   "cell_type": "markdown",
   "id": "5aacf945-e203-4645-a7a7-48a3a34f4aba",
   "metadata": {},
   "source": [
    "Probability density function(pdf) is a statistical expresion that defines  a probability distribution for a discreate random variable as opposed to a continuous random variable."
   ]
  },
  {
   "cell_type": "markdown",
   "id": "3bd1c828-fddc-4a1c-9647-518f56347aa3",
   "metadata": {},
   "source": [
    "Que2: what are the types of probability distribution?"
   ]
  },
  {
   "cell_type": "markdown",
   "id": "52d1fee1-5c86-403e-83df-f586e56db8e6",
   "metadata": {},
   "source": [
    "Ans:1. discrete probability distributions.\n",
    "2. continuous probability distributions"
   ]
  },
  {
   "cell_type": "markdown",
   "id": "1fa86c94-babb-4732-b469-c65fd0d62157",
   "metadata": {},
   "source": [
    "Que 3: write a python function to calculate the probability density function of a normal distribution with given mean and stdv  at a given point."
   ]
  },
  {
   "cell_type": "code",
   "execution_count": 1,
   "id": "f327c4e4-b5b0-4845-87a5-78cdbd15e20d",
   "metadata": {},
   "outputs": [
    {
     "name": "stdout",
     "output_type": "stream",
     "text": [
      "0.0804410163156249\n"
     ]
    }
   ],
   "source": [
    "from scipy.stats import norm\n",
    "import numpy as np\n",
    "\n",
    "data_start = -5\n",
    "data_end = 5\n",
    "data_points = 11\n",
    "data = np.linspace(data_start, data_end, data_points)\n",
    "\n",
    "mean = np.mean(data)\n",
    "std = np.std(data)\n",
    "\n",
    "probability_pdf = norm.pdf(3, loc=mean, scale= std)\n",
    "print (probability_pdf)"
   ]
  },
  {
   "cell_type": "markdown",
   "id": "4f087d72-585a-4e22-b72a-e77ec39c71e6",
   "metadata": {},
   "source": [
    "Que4: what are the properties of binomial distribution ? given two examples of events where binomial distribution can be applied."
   ]
  },
  {
   "cell_type": "markdown",
   "id": "b0f7f850-b7fe-440a-8d57-b3e545c68f6f",
   "metadata": {},
   "source": [
    "Ans: there are two possible outcomes: true or false, success or failure, ye or no . there is 'n' number of independent trials or a fixed number of n times repeated trials. the probability of sucess or failure remains the same for each trial.examples: 1.tossing a coin 20 times to see how many tails occur. 2. rolling a die to see if a 5 appears."
   ]
  },
  {
   "cell_type": "markdown",
   "id": "207ef9d1-44df-4f00-886c-36ce0b1e93d8",
   "metadata": {},
   "source": [
    "Que6:how binomial distribution different from possion distribution."
   ]
  },
  {
   "cell_type": "markdown",
   "id": "72a6b3f0-d6a1-470a-8f8f-385745d7494a",
   "metadata": {},
   "source": [
    "Ans: binomal distribution describes the distribution of binary data from a finite sample. thus it gives the probability og getting r events out of n trials. Possion distribution describes the distribution of binary data from an infinite sample. thus it gives the probability of getting r events in a population."
   ]
  },
  {
   "cell_type": "markdown",
   "id": "302a5aad-7828-4fea-838b-d4460de75e5f",
   "metadata": {},
   "source": [
    "Que7: how mean and variance are related in binomial distribution and possion distribution."
   ]
  },
  {
   "cell_type": "markdown",
   "id": "398b72c6-0791-415a-abe1-26c44f77a086",
   "metadata": {},
   "source": [
    "the mean and the variance of the poisson distribution are the same, which is equal to the average number of successes that occur in the given interval of time."
   ]
  },
  {
   "cell_type": "markdown",
   "id": "01296dc6-43f0-494f-9899-af2e103f417f",
   "metadata": {},
   "source": [
    "Que8: in normal distribution with respect to mean position , where does the least frequent appear."
   ]
  },
  {
   "cell_type": "markdown",
   "id": "cc7da02e-9539-4f22-b5a9-9e617c2627e8",
   "metadata": {},
   "source": [
    "Ans: a normal distribution is symmetric from the  peak of the curve, where the mean is . this means that most of the observed data is clustered near the mean, while the data become less frequent when farther away from the mean."
   ]
  },
  {
   "cell_type": "code",
   "execution_count": null,
   "id": "c4c18491-da87-44bb-8962-2bc47aec2dc4",
   "metadata": {},
   "outputs": [],
   "source": []
  }
 ],
 "metadata": {
  "kernelspec": {
   "display_name": "Python 3 (ipykernel)",
   "language": "python",
   "name": "python3"
  },
  "language_info": {
   "codemirror_mode": {
    "name": "ipython",
    "version": 3
   },
   "file_extension": ".py",
   "mimetype": "text/x-python",
   "name": "python",
   "nbconvert_exporter": "python",
   "pygments_lexer": "ipython3",
   "version": "3.10.8"
  }
 },
 "nbformat": 4,
 "nbformat_minor": 5
}
